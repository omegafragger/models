{
 "cells": [
  {
   "cell_type": "code",
   "execution_count": 32,
   "metadata": {},
   "outputs": [
    {
     "name": "stdout",
     "output_type": "stream",
     "text": [
      "[5, 2, 2]\n",
      "[5, 2, 2, 4]\n",
      "[[[[ 1.  2.  3.  3.]\n",
      "   [ 1.  2.  3.  3.]]\n",
      "\n",
      "  [[ 1.  2.  3.  3.]\n",
      "   [ 1.  2.  3.  3.]]]\n",
      "\n",
      "\n",
      " [[[ 1.  2.  3.  3.]\n",
      "   [ 1.  2.  3.  3.]]\n",
      "\n",
      "  [[ 1.  2.  3.  3.]\n",
      "   [ 1.  2.  3.  3.]]]\n",
      "\n",
      "\n",
      " [[[ 1.  2.  3.  3.]\n",
      "   [ 1.  2.  3.  3.]]\n",
      "\n",
      "  [[ 1.  2.  3.  3.]\n",
      "   [ 1.  2.  3.  3.]]]\n",
      "\n",
      "\n",
      " [[[ 1.  2.  3.  3.]\n",
      "   [ 1.  2.  3.  3.]]\n",
      "\n",
      "  [[ 1.  2.  3.  3.]\n",
      "   [ 1.  2.  3.  3.]]]\n",
      "\n",
      "\n",
      " [[[ 1.  2.  3.  3.]\n",
      "   [ 1.  2.  3.  3.]]\n",
      "\n",
      "  [[ 1.  2.  3.  3.]\n",
      "   [ 1.  2.  3.  3.]]]]\n",
      "3.0\n"
     ]
    }
   ],
   "source": [
    "import tensorflow as tf\n",
    "\n",
    "sh = [5,2,2,1]\n",
    "x = tf.ones(sh)\n",
    "y = tf.ones(sh)\n",
    "n = x + y\n",
    "k = x + y + y\n",
    "ls = [x,n,k,k]\n",
    "\n",
    "print (mod_ls[0].get_shape().as_list())\n",
    "z = tf.reduce_mean(ls, 0)\n",
    "p = k.get_shape().as_list()\n",
    "\n",
    "\n",
    "res = tf.concat(ls, axis=3)\n",
    "mx = tf.reduce_max(res)\n",
    "print (res.get_shape().as_list())\n",
    "with tf.Session() as sess:\n",
    "    print (sess.run(res))\n",
    "    print (sess.run(mx))"
   ]
  },
  {
   "cell_type": "code",
   "execution_count": 33,
   "metadata": {},
   "outputs": [
    {
     "name": "stdout",
     "output_type": "stream",
     "text": [
      "0\n",
      "1\n",
      "2\n",
      "3\n",
      "4\n",
      "5\n",
      "6\n",
      "7\n",
      "8\n",
      "9\n"
     ]
    }
   ],
   "source": [
    "for i in range(0, 10):\n",
    "    print (i)"
   ]
  },
  {
   "cell_type": "code",
   "execution_count": 71,
   "metadata": {},
   "outputs": [
    {
     "name": "stdout",
     "output_type": "stream",
     "text": [
      "5 2 2 4\n",
      "[5, 2, 2, 1]\n"
     ]
    }
   ],
   "source": [
    "import numpy as np\n",
    "\n",
    "# Following method creates the pixel wise mode tensor.\n",
    "# Expects input of the type [batch, height, width, num_MC_trials]\n",
    "def get_mode_tensor(input):\n",
    "    sh = input.get_shape().as_list()\n",
    "    batch = sh[0]\n",
    "    height = sh[1]\n",
    "    width = sh[2]\n",
    "    num_mc_trials = sh[3]\n",
    "    print (batch, height, width, num_mc_trials)\n",
    "    #res_arr = np.zeros([batch, height, width, 1])\n",
    "    res_arr = get_multidimensional_list(batch, height, width)\n",
    "    for i in range(0, batch):\n",
    "        # reduced_tensor has dimension [height, width, num_MC_trials]\n",
    "        reduced_tensor = input[i]\n",
    "        uni_dim_tensor = []\n",
    "        for x in range(0, height):\n",
    "            for y in range(0, width):\n",
    "                uni_dim_tensor = create_uni_dim_tensor(reduced_tensor, x, y)\n",
    "                y_val, y_indx, y_count = tf.unique_with_counts(uni_dim_tensor)\n",
    "                \n",
    "                #TODO: Change this to (1 - fx/S)\n",
    "                res_arr[i][x][y][0] = 1 - (tf.reduce_max(y_count)/num_mc_trials)\n",
    "    return tf.convert_to_tensor(res_arr)\n",
    "        \n",
    "    \n",
    "# Following method expects input of the form [height, width, channels]\n",
    "def create_uni_dim_tensor(input, height_ind, width_ind):\n",
    "    res = []\n",
    "    num_channels = input.get_shape().as_list()[2]\n",
    "    for i in range(0, num_channels):\n",
    "        res.append(input[height_ind][width_ind][i])\n",
    "    return tf.convert_to_tensor(res)\n",
    "\n",
    "\n",
    "def get_multidimensional_list(batch, height, width):\n",
    "    ls = [[[[None]*1]*width]*height]*batch\n",
    "    return ls\n",
    "\n",
    "mode_tensor = get_mode_tensor(res)\n",
    "print (mode_tensor.get_shape().as_list())"
   ]
  },
  {
   "cell_type": "code",
   "execution_count": 58,
   "metadata": {},
   "outputs": [
    {
     "name": "stdout",
     "output_type": "stream",
     "text": [
      "0.0\n"
     ]
    }
   ],
   "source": []
  },
  {
   "cell_type": "code",
   "execution_count": 67,
   "metadata": {},
   "outputs": [
    {
     "name": "stdout",
     "output_type": "stream",
     "text": [
      "None\n"
     ]
    }
   ],
   "source": []
  },
  {
   "cell_type": "code",
   "execution_count": null,
   "metadata": {
    "collapsed": true
   },
   "outputs": [],
   "source": []
  }
 ],
 "metadata": {
  "kernelspec": {
   "display_name": "Python 3",
   "language": "python",
   "name": "python3"
  },
  "language_info": {
   "codemirror_mode": {
    "name": "ipython",
    "version": 3
   },
   "file_extension": ".py",
   "mimetype": "text/x-python",
   "name": "python",
   "nbconvert_exporter": "python",
   "pygments_lexer": "ipython3",
   "version": "3.6.2"
  }
 },
 "nbformat": 4,
 "nbformat_minor": 2
}
